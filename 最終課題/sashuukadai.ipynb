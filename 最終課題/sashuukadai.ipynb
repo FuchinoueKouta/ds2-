{
 "cells": [
  {
   "cell_type": "code",
   "execution_count": 2,
   "metadata": {},
   "outputs": [],
   "source": [
    "import requests\n",
    "from bs4 import BeautifulSoup"
   ]
  },
  {
   "cell_type": "code",
   "execution_count": 7,
   "metadata": {},
   "outputs": [
    {
     "name": "stdout",
     "output_type": "stream",
     "text": [
      "[{'airlines': '🇺🇸 Frontier Airlines', 'lostbags': '56,309'}, {'airlines': '🇮🇳 Air India', 'lostbags': '94,200'}, {'airlines': '🇮🇳 IndiGo', 'lostbags': '74,535'}, {'airlines': '🇬🇧 British Airways', 'lostbags': '88,192'}, {'airlines': '🇪🇸 Iberia', 'lostbags': '26,635'}, {'airlines': '🇬🇧 Virgin Atlantic', 'lostbags': '13,968'}, {'airlines': '🇵🇰 Pakistan International Airlines', 'lostbags': '7,233'}, {'airlines': '🇦🇪 Emirates', 'lostbags': '49,344'}, {'airlines': '🇪🇹 Ethiopian Airlines', 'lostbags': '13,534'}, {'airlines': '🇮🇪 Aer Lingus', 'lostbags': '10,678'}, {'airlines': '🇨🇭 Swiss', 'lostbags': '10,128'}, {'airlines': '🇲🇦 Royal Air Maroc', 'lostbags': '8,701'}, {'airlines': '🇶🇦 Qatar Airways', 'lostbags': '34,716'}, {'airlines': '🇰🇪 Kenya Airways', 'lostbags': '6,259'}, {'airlines': '🇨🇴 Avianca', 'lostbags': '25,250'}, {'airlines': '🇨🇦 Air Canada', 'lostbags': '23,250'}, {'airlines': '🇵🇹 TAP Portugal', 'lostbags': '7,750'}, {'airlines': '🇺🇸 American Airlines', 'lostbags': '114,298'}, {'airlines': '🇳🇱 KLM', 'lostbags': '14,018'}, {'airlines': '🇭🇺 Wizz Air', 'lostbags': '7,752'}, {'airlines': '🇲🇽 Aeromexico', 'lostbags': '8,200'}, {'airlines': '🇵🇭 Cebu Pacific', 'lostbags': '5,335'}, {'airlines': '🇦🇺 Qantas', 'lostbags': '12,596'}, {'airlines': '🇮🇳 SpiceJet', 'lostbags': '5,829'}, {'airlines': '🇪🇬 EgyptAir', 'lostbags': '4,815'}, {'airlines': '🇺🇸 Delta Air Lines', 'lostbags': '70,338'}, {'airlines': '🇺🇸 United Airlines', 'lostbags': '59,851'}, {'airlines': '🇨🇦 WestJet Airlines', 'lostbags': '9,625'}, {'airlines': '🇦🇪 Etihad Airways', 'lostbags': '8,684'}, {'airlines': '🇺🇸 Spirit Airlines', 'lostbags': '9,178'}, {'airlines': '🇪🇸 Air Europa', 'lostbags': '3,385'}, {'airlines': '🇫🇷 Air France', 'lostbags': '15,535'}, {'airlines': '🇹🇷 Turkish Airlines', 'lostbags': '21,837'}, {'airlines': '🇹🇷 Pegasus Airlines', 'lostbags': '4,846'}, {'airlines': '🇬🇧 easyJet', 'lostbags': '14,947'}, {'airlines': '🇩🇪 Lufthansa', 'lostbags': '16,879'}, {'airlines': '🇧🇪 Brussels Airlines', 'lostbags': '1,933'}, {'airlines': '🇺🇸 JetBlue', 'lostbags': '12,092'}, {'airlines': '🇮🇹 ITA Airways', 'lostbags': '4,819'}, {'airlines': '🇪🇸 Vueling', 'lostbags': '4,858'}, {'airlines': '🇺🇸 Alaska Airlines', 'lostbags': '13,548'}, {'airlines': '🇹🇭 Thai Airways', 'lostbags': '3,376'}, {'airlines': '🇮🇸 Icelandair', 'lostbags': '1,451'}, {'airlines': '🇮🇪 Ryanair', 'lostbags': '16,942'}, {'airlines': '🇦🇺 Jetstar', 'lostbags': '3,398'}, {'airlines': '🇺🇸 Southwest Airlines', 'lostbags': '24,143'}, {'airlines': '🇸🇦 Saudia', 'lostbags': '6,285'}, {'airlines': '🇸🇬 Singapore Airlines', 'lostbags': '3,867'}, {'airlines': '🇫🇮 Finnair', 'lostbags': '2,422'}, {'airlines': '🇿🇦 South African', 'lostbags': '1,933'}, {'airlines': '🇧🇭 Gulf Air', 'lostbags': '971'}, {'airlines': '🇲🇾 Malaysia Airlines', 'lostbags': '2,418'}, {'airlines': '🇨🇱 LATAM Chile', 'lostbags': '3,381'}, {'airlines': '🇳🇴 Norwegian', 'lostbags': '1,927'}, {'airlines': '🇺🇸 Allegiant Air', 'lostbags': '2,411'}, {'airlines': '🇦🇷 Aerolineas Argentinas', 'lostbags': '1,456'}, {'airlines': '🇬🇧 Jet2', 'lostbags': '1,937'}, {'airlines': '🇱🇰 SriLankan Airlines', 'lostbags': '485'}, {'airlines': '🇯🇴 Royal Jordanian', 'lostbags': '486'}, {'airlines': '🇸🇪 SAS Scandinavia', 'lostbags': '2,415'}, {'airlines': '🇬🇷 Aegean Airlines', 'lostbags': '969'}, {'airlines': '🇸🇬 Scoot', 'lostbags': '2,411'}, {'airlines': '🇺🇸 Hawaiian Airlines', 'lostbags': '967'}, {'airlines': '🇲🇾 Batik Air Malaysia', 'lostbags': '481'}, {'airlines': '🇦🇪 Air Arabia', 'lostbags': '972'}, {'airlines': '🇴🇲 Oman Air', 'lostbags': '1,444'}, {'airlines': '🇧🇷 GOL Airlines', 'lostbags': '1,456'}, {'airlines': '🇹🇭 Bangkok Airways', 'lostbags': '483'}, {'airlines': '🇧🇷 LATAM Brazil', 'lostbags': '1,448'}, {'airlines': '🇻🇳 VietJet', 'lostbags': '486'}, {'airlines': '🇦🇪 flydubai', 'lostbags': '484'}, {'airlines': '🇭🇰 Cathay Pacific', 'lostbags': '968'}, {'airlines': '🇧🇷 Azul', 'lostbags': '1,455'}, {'airlines': '🇵🇭 Philippine Airlines', 'lostbags': '483'}, {'airlines': '🇮🇩 Garuda Indonesia', 'lostbags': '970'}, {'airlines': '🇰🇷 Asiana Airlines', 'lostbags': '481'}, {'airlines': '🇲🇾 Air Asia', 'lostbags': '970'}, {'airlines': '🇦🇹 Austrian Airlines', 'lostbags': '486'}, {'airlines': '🇻🇳 Vietnam Airlines', 'lostbags': '483'}, {'airlines': '🇳🇱 Transavia', 'lostbags': '482'}, {'airlines': '🇦🇺 Virgin Australia', 'lostbags': '482'}, {'airlines': '🇮🇩 Lion Air', 'lostbags': '484'}, {'airlines': '🇨🇳 Air China', 'lostbags': '481'}]\n"
     ]
    }
   ],
   "source": [
    "url = 'https://luggagelosers.com/'\n",
    "response = requests.get(url)\n",
    "soup = BeautifulSoup(response.text, 'html.parser')\n",
    "list_of_airlines = []\n",
    "table_tags = soup.find('table')\n",
    "tr_tags = table_tags.find_all('tr')\n",
    "for tr in tr_tags:\n",
    "    td_tags = tr.find_all('td')\n",
    "    td_lostbags = td_tags[-1].get_text(strip=True)\n",
    "    for td in td_tags:\n",
    "        a_tags = td.find_all('a')\n",
    "        for a_tag in a_tags:\n",
    "            airlines = a_tag.get_text(strip=True)\n",
    "            list_of_airlines.append(\n",
    "                {\n",
    "                    'airlines': airlines,\n",
    "                    'lostbags': td_lostbags\n",
    "                }\n",
    "            )\n",
    "print(list_of_airlines)  \n",
    "\n"
   ]
  },
  {
   "cell_type": "code",
   "execution_count": null,
   "metadata": {},
   "outputs": [],
   "source": []
  }
 ],
 "metadata": {
  "kernelspec": {
   "display_name": ".venv",
   "language": "python",
   "name": "python3"
  },
  "language_info": {
   "codemirror_mode": {
    "name": "ipython",
    "version": 3
   },
   "file_extension": ".py",
   "mimetype": "text/x-python",
   "name": "python",
   "nbconvert_exporter": "python",
   "pygments_lexer": "ipython3",
   "version": "3.12.7"
  }
 },
 "nbformat": 4,
 "nbformat_minor": 2
}
